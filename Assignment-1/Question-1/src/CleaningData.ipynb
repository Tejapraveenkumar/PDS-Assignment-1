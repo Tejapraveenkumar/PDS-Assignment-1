{
 "cells": [
  {
   "cell_type": "code",
   "execution_count": 30,
   "id": "0b9987bf",
   "metadata": {},
   "outputs": [
    {
     "name": "stdout",
     "output_type": "stream",
     "text": [
      "   Height  Weight  Age  Grip strength Frailty\n",
      "0    65.8     112   30             30       N\n",
      "1    71.5     136   19             31       N\n",
      "2    69.4     153   45             29       N\n",
      "3    68.2     142   22             28       Y\n",
      "4    67.8     144   29             24       Y\n",
      "5    68.7     123   50             26       N\n",
      "6    69.8     141   51             22       Y\n",
      "7    70.1     136   23             20       Y\n",
      "8    67.9     112   17             19       N\n",
      "9    66.8     120   39             31       N\n"
     ]
    }
   ],
   "source": [
    "import pandas as pd\n",
    "Rawdata=pd.read_csv(r\"C:\\Users\\tejap\\OneDrive\\Documents\\PDS\\Female_Frailty.csv\")\n",
    "print(Rawdata)"
   ]
  },
  {
   "cell_type": "code",
   "execution_count": 31,
   "id": "3bbc48cb",
   "metadata": {},
   "outputs": [
    {
     "name": "stdout",
     "output_type": "stream",
     "text": [
      "Height           0\n",
      "Weight           0\n",
      "Age              0\n",
      "Grip strength    0\n",
      "Frailty          0\n",
      "dtype: int64\n"
     ]
    }
   ],
   "source": [
    "Missing_Values=Rawdata.isnull().sum()\n",
    "print(Missing_Values)"
   ]
  },
  {
   "cell_type": "code",
   "execution_count": 32,
   "id": "205a9747",
   "metadata": {},
   "outputs": [],
   "source": [
    "#Converting Grip strength in kilograms to pounds by multiplying with 2.20462\n",
    "Rawdata['Grip strength']=Rawdata['Grip strength']*2.20462"
   ]
  },
  {
   "cell_type": "code",
   "execution_count": 33,
   "id": "138a187d",
   "metadata": {},
   "outputs": [],
   "source": [
    "#Here Frailty is in categorical data. So, need to change to Numerical data.\n",
    "Rawdata['Frailty']=Rawdata['Frailty'].map({'Y':1,'N':0})"
   ]
  },
  {
   "cell_type": "code",
   "execution_count": 34,
   "id": "a7d050f8",
   "metadata": {},
   "outputs": [
    {
     "name": "stdout",
     "output_type": "stream",
     "text": [
      "   Height  Weight  Age  Grip strength  Frailty\n",
      "0    65.8     112   30       66.13860        0\n",
      "1    71.5     136   19       68.34322        0\n",
      "2    69.4     153   45       63.93398        0\n",
      "3    68.2     142   22       61.72936        1\n",
      "4    67.8     144   29       52.91088        1\n",
      "5    68.7     123   50       57.32012        0\n",
      "6    69.8     141   51       48.50164        1\n",
      "7    70.1     136   23       44.09240        1\n",
      "8    67.9     112   17       41.88778        0\n",
      "9    66.8     120   39       68.34322        0\n"
     ]
    }
   ],
   "source": [
    "print(Rawdata)"
   ]
  },
  {
   "cell_type": "code",
   "execution_count": 35,
   "id": "4e8c7735",
   "metadata": {
    "scrolled": true
   },
   "outputs": [
    {
     "name": "stdout",
     "output_type": "stream",
     "text": [
      "   Height  Weight  Age  Grip strength  Frailty\n",
      "0    65.8     112   30       66.13860        0\n",
      "1    71.5     136   19       68.34322        0\n",
      "2    69.4     153   45       63.93398        0\n",
      "3    68.2     142   22       61.72936        1\n",
      "4    67.8     144   29       52.91088        1\n",
      "5    68.7     123   50       57.32012        0\n",
      "6    69.8     141   51       48.50164        1\n",
      "7    70.1     136   23       44.09240        1\n",
      "8    67.9     112   17       41.88778        0\n",
      "9    66.8     120   39       68.34322        0\n"
     ]
    }
   ],
   "source": [
    "cleaneddata=Rawdata.dropna()\n",
    "print(cleaneddata)"
   ]
  },
  {
   "cell_type": "code",
   "execution_count": 36,
   "id": "3542c6a9",
   "metadata": {},
   "outputs": [
    {
     "name": "stdout",
     "output_type": "stream",
     "text": [
      "successfully saved the data\n"
     ]
    }
   ],
   "source": [
    "#Saving the clean data into the csv file\n",
    "\n",
    "cleaneddata.to_csv(r'C:\\Users\\tejap\\Assignment-1\\Question-1\\Cleaned_Data\\cleaneddata.csv')\n",
    "print('successfully saved the data')"
   ]
  }
 ],
 "metadata": {
  "kernelspec": {
   "display_name": "Python 3 (ipykernel)",
   "language": "python",
   "name": "python3"
  },
  "language_info": {
   "codemirror_mode": {
    "name": "ipython",
    "version": 3
   },
   "file_extension": ".py",
   "mimetype": "text/x-python",
   "name": "python",
   "nbconvert_exporter": "python",
   "pygments_lexer": "ipython3",
   "version": "3.10.9"
  }
 },
 "nbformat": 4,
 "nbformat_minor": 5
}
