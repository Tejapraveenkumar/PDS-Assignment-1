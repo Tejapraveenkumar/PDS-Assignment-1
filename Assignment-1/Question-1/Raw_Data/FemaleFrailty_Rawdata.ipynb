{
 "cells": [
  {
   "cell_type": "code",
   "execution_count": null,
   "id": "13f10f56",
   "metadata": {},
   "outputs": [],
   "source": [
    "import pandas as pd\n",
    "Rawdata=pd.read_csv(r\"C:\\Users\\tejap\\OneDrive\\Documents\\PDS\\Female_Frailty.csv\")"
   ]
  },
  {
   "cell_type": "code",
   "execution_count": 6,
   "id": "238b24de",
   "metadata": {},
   "outputs": [
    {
     "name": "stdout",
     "output_type": "stream",
     "text": [
      "   Height  Weight  Age  Grip strength Frailty\n",
      "0    65.8     112   30             30       N\n",
      "1    71.5     136   19             31       N\n",
      "2    69.4     153   45             29       N\n",
      "3    68.2     142   22             28       Y\n",
      "4    67.8     144   29             24       Y\n",
      "5    68.7     123   50             26       N\n",
      "6    69.8     141   51             22       Y\n",
      "7    70.1     136   23             20       Y\n",
      "8    67.9     112   17             19       N\n",
      "9    66.8     120   39             31       N\n"
     ]
    }
   ],
   "source": [
    "print(Rawdata)"
   ]
  },
  {
   "cell_type": "raw",
   "id": "1110ac71",
   "metadata": {},
   "source": [
    "#In this Female Frailty dataset, Height in Inches, Weight in LBs, Age in Years, Grip Strength in Kilograms."
   ]
  },
  {
   "cell_type": "code",
   "execution_count": 7,
   "id": "3755a209",
   "metadata": {},
   "outputs": [
    {
     "name": "stdout",
     "output_type": "stream",
     "text": [
      "<class 'pandas.core.frame.DataFrame'>\n",
      "RangeIndex: 10 entries, 0 to 9\n",
      "Data columns (total 5 columns):\n",
      " #   Column         Non-Null Count  Dtype  \n",
      "---  ------         --------------  -----  \n",
      " 0   Height         10 non-null     float64\n",
      " 1   Weight         10 non-null     int64  \n",
      " 2   Age            10 non-null     int64  \n",
      " 3   Grip strength  10 non-null     int64  \n",
      " 4   Frailty        10 non-null     object \n",
      "dtypes: float64(1), int64(3), object(1)\n",
      "memory usage: 528.0+ bytes\n",
      "None\n"
     ]
    }
   ],
   "source": [
    "print(Rawdata.info())"
   ]
  },
  {
   "cell_type": "code",
   "execution_count": null,
   "id": "269eb45b",
   "metadata": {},
   "outputs": [],
   "source": []
  }
 ],
 "metadata": {
  "kernelspec": {
   "display_name": "Python 3 (ipykernel)",
   "language": "python",
   "name": "python3"
  },
  "language_info": {
   "codemirror_mode": {
    "name": "ipython",
    "version": 3
   },
   "file_extension": ".py",
   "mimetype": "text/x-python",
   "name": "python",
   "nbconvert_exporter": "python",
   "pygments_lexer": "ipython3",
   "version": "3.10.9"
  }
 },
 "nbformat": 4,
 "nbformat_minor": 5
}
